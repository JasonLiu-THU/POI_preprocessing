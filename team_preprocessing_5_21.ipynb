{
 "cells": [
  {
   "cell_type": "code",
   "execution_count": 1,
   "metadata": {
    "collapsed": true
   },
   "outputs": [],
   "source": [
    "from __future__ import unicode_literals\n",
    "import sys\n",
    "reload(sys)\n",
    "sys.setdefaultencoding('utf-8')\n",
    "\n",
    "#for team dataset\n",
    "import json\n",
    "import os\n",
    "import time"
   ]
  },
  {
   "cell_type": "code",
   "execution_count": 2,
   "metadata": {
    "collapsed": true
   },
   "outputs": [],
   "source": [
    "#main\n",
    "fcnt = 0\n",
    "pois = {}\n",
    "posts = {}\n",
    "users = {}\n",
    "print \"start\"\n",
    "for root, dirs, files in os.walk('/../hdd1/buru/our/json_data/'):\n",
    "    for file in files:\n",
    "        with open(\"/../hdd1/buru/our/json_data/\"+file, \"r\")as t:\n",
    "            try:\n",
    "                data = json.load(t)\n",
    "            except:\n",
    "                print \"load_error\", file\n",
    "                continue\n",
    "                \n",
    "        dic = {}\n",
    "        for i in range(0, len(data['data'])):\n",
    "            dic = {}\n",
    "            #exception check\n",
    "            if(data['data'][i]['location'] is None):\n",
    "                continue\n",
    "            if(data['data'][i]['caption'] is None):\n",
    "                continue\n",
    "            if(not('latitude' in data['data'][i]['location'])):\n",
    "                continue\n",
    "            if(not('text' in data['data'][i]['caption'])):\n",
    "                continue\n",
    "            if(data['data'][i]['created_time'] is None):\n",
    "                continue\n",
    "            #pois \n",
    "            poi = data['data'][i]['location']['name']\n",
    "            post = data['data'][i]['id']\n",
    "            user = data['data'][i]['user']['id']\n",
    "            if(poi in pois):\n",
    "                pois[poi]['posts'][post] = 1\n",
    "                pois[poi]['users'][user] = 1\n",
    "            else:\n",
    "                dic['name'] = poi\n",
    "                dic['gps'] = (data['data'][i]['location']['latitude'],data['data'][i]['location']['longitude'])\n",
    "                dic['posts'] = {}\n",
    "                dic['posts'][post] = 1\n",
    "                dic['users'] = {}\n",
    "                dic['users'][user] = 1\n",
    "                pois[poi] = dic\n",
    "            \n",
    "            #posts\n",
    "            dic = {}\n",
    "            dic['content'] = data['data'][i]['caption']['text']\n",
    "            dic['poi'] = poi\n",
    "            dic['user'] = user\n",
    "            z = time.gmtime(float(data['data'][i]['created_time']))\n",
    "            y_m_d = z[0]*10000+z[1]*100+z[2] #y_m_d\n",
    "            week_d = z[6] #day of week\n",
    "            hour_s = z[3] #hour\n",
    "            dic['created_time'] = (y_m_d, week_d, hour_s)\n",
    "            \n",
    "            posts[post] = dic\n",
    "            \n",
    "            #users\n",
    "            dic = {}\n",
    "            if(user in users):\n",
    "                subdic = {}\n",
    "                subdic['poi'] = poi\n",
    "                subdic['created_time'] = (y_m_d, week_d, hour_s)\n",
    "                users[user][post] = subdic\n",
    "                \n",
    "            else:\n",
    "                subdic = {}\n",
    "                subdic['poi'] = poi\n",
    "                subdic['created_time'] = (y_m_d, week_d, hour_s)\n",
    "                dic[post] = subdic\n",
    "                users[user] = dic\n",
    "            \n",
    "        fcnt = fcnt + 1\n",
    "        if(fcnt%100 == 0):\n",
    "            print fcnt, \"iteration\"\n",
    "        \n",
    "\n",
    "\n",
    "with open(\"pois.json\", \"w\") as f:\n",
    "    f.write(json.dumps(pois))\n",
    "\n",
    "\n",
    "with open(\"posts.json\", \"w\") as g:\n",
    "    g.write(json.dumps(posts))\n",
    "\n",
    "\n",
    "with open(\"users.json\", \"w\") as h:\n",
    "    h.write(json.dumps(users))"
   ]
  },
  {
   "cell_type": "code",
   "execution_count": 9,
   "metadata": {
    "collapsed": false
   },
   "outputs": [
    {
     "data": {
      "text/plain": [
       "{u'b': 2}"
      ]
     },
     "execution_count": 9,
     "metadata": {},
     "output_type": "execute_result"
    }
   ],
   "source": [
    "a = {}\n",
    "a['b'] = 2\n",
    "a"
   ]
  }
 ],
 "metadata": {
  "kernelspec": {
   "display_name": "Python 2",
   "language": "python",
   "name": "python2"
  },
  "language_info": {
   "codemirror_mode": {
    "name": "ipython",
    "version": 2
   },
   "file_extension": ".py",
   "mimetype": "text/x-python",
   "name": "python",
   "nbconvert_exporter": "python",
   "pygments_lexer": "ipython2",
   "version": "2.7.6"
  }
 },
 "nbformat": 4,
 "nbformat_minor": 1
}
