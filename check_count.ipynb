{
 "cells": [
  {
   "cell_type": "code",
   "execution_count": 1,
   "metadata": {
    "collapsed": true
   },
   "outputs": [],
   "source": [
    "from __future__ import unicode_literals\n",
    "import sys\n",
    "reload(sys)\n",
    "sys.setdefaultencoding('utf-8')\n",
    "\n",
    "#for team dataset\n",
    "import json\n",
    "import os"
   ]
  },
  {
   "cell_type": "code",
   "execution_count": 2,
   "metadata": {
    "collapsed": false
   },
   "outputs": [
    {
     "data": {
      "text/plain": [
       "747754"
      ]
     },
     "execution_count": 2,
     "metadata": {},
     "output_type": "execute_result"
    }
   ],
   "source": [
    "ccn = 0\n",
    "for root, dirs, files in os.walk('/../hdd1/buru/our/json_data/'):\n",
    "    for file in files:\n",
    "        ccn = ccn+1\n",
    "ccn"
   ]
  },
  {
   "cell_type": "code",
   "execution_count": 2,
   "metadata": {
    "collapsed": false
   },
   "outputs": [],
   "source": [
    "with open(\"dataset/posts.json\", 'r') as t:\n",
    "    posts = json.load(t)\n",
    "with open(\"dataset/pois.json\", 'r') as h:\n",
    "    pois = json.load(h)\n",
    "with open(\"dataset/users.json\", 'r') as g:\n",
    "    users = json.load(g)"
   ]
  },
  {
   "cell_type": "code",
   "execution_count": 4,
   "metadata": {
    "collapsed": false
   },
   "outputs": [
    {
     "data": {
      "text/plain": [
       "66395"
      ]
     },
     "execution_count": 4,
     "metadata": {},
     "output_type": "execute_result"
    }
   ],
   "source": [
    "user_count = len(users.keys())\n",
    "user_count"
   ]
  },
  {
   "cell_type": "code",
   "execution_count": 5,
   "metadata": {
    "collapsed": false
   },
   "outputs": [
    {
     "data": {
      "text/plain": [
       "15596"
      ]
     },
     "execution_count": 5,
     "metadata": {},
     "output_type": "execute_result"
    }
   ],
   "source": [
    "pois_count = len(pois.keys())\n",
    "pois_count"
   ]
  },
  {
   "cell_type": "code",
   "execution_count": 6,
   "metadata": {
    "collapsed": false
   },
   "outputs": [
    {
     "data": {
      "text/plain": [
       "1886276"
      ]
     },
     "execution_count": 6,
     "metadata": {},
     "output_type": "execute_result"
    }
   ],
   "source": [
    "check_ins = len(posts.keys())\n",
    "check_ins"
   ]
  },
  {
   "cell_type": "code",
   "execution_count": 16,
   "metadata": {
    "collapsed": false
   },
   "outputs": [
    {
     "data": {
      "text/plain": [
       "28.4"
      ]
     },
     "execution_count": 16,
     "metadata": {},
     "output_type": "execute_result"
    }
   ],
   "source": [
    "avg_che_ins_of_each_user = float(check_ins) / user_count\n",
    "print avg_che_ins_of_each_user\n",
    "\n",
    "avg_che_ins_of_each_user = round(avg_che_ins_of_each_user, 1)\n",
    "print avg_che_ins_of_each_user\n",
    "avg_che_ins_of_each_user"
   ]
  },
  {
   "cell_type": "code",
   "execution_count": 18,
   "metadata": {
    "collapsed": false
   },
   "outputs": [],
   "source": [
    "counts_poi = 0 \n",
    "for user in users.keys():\n",
    "    dic = {}\n",
    "    for post in users[user].keys():\n",
    "        poi = users[user][post]['poi']\n",
    "        dic[poi] = 0\n",
    "    counts_poi = counts_poi + len(dic.keys())\n"
   ]
  },
  {
   "cell_type": "code",
   "execution_count": 20,
   "metadata": {
    "collapsed": false,
    "scrolled": false
   },
   "outputs": [
    {
     "data": {
      "text/plain": [
       "946162"
      ]
     },
     "execution_count": 20,
     "metadata": {},
     "output_type": "execute_result"
    }
   ],
   "source": [
    "counts_poi"
   ]
  },
  {
   "cell_type": "code",
   "execution_count": 21,
   "metadata": {
    "collapsed": false
   },
   "outputs": [
    {
     "data": {
      "text/plain": [
       "14.3"
      ]
     },
     "execution_count": 21,
     "metadata": {},
     "output_type": "execute_result"
    }
   ],
   "source": [
    "avg_pois_for_each_user = float(counts_poi) / user_count\n",
    "print avg_pois_for_each_user\n",
    "\n",
    "avg_pois_for_each_user = round(avg_pois_for_each_user, 1)\n",
    "print avg_pois_for_each_user\n",
    "avg_pois_for_each_user"
   ]
  },
  {
   "cell_type": "code",
   "execution_count": 22,
   "metadata": {
    "collapsed": true
   },
   "outputs": [],
   "source": [
    "counts_user = 0\n",
    "for poi in pois.keys():\n",
    "    counts_user = counts_user + len(pois[poi]['users'].keys())"
   ]
  },
  {
   "cell_type": "code",
   "execution_count": 23,
   "metadata": {
    "collapsed": false
   },
   "outputs": [
    {
     "data": {
      "text/plain": [
       "2208501"
      ]
     },
     "execution_count": 23,
     "metadata": {},
     "output_type": "execute_result"
    }
   ],
   "source": [
    "counts_user"
   ]
  },
  {
   "cell_type": "code",
   "execution_count": 24,
   "metadata": {
    "collapsed": false
   },
   "outputs": [
    {
     "data": {
      "text/plain": [
       "141.6"
      ]
     },
     "execution_count": 24,
     "metadata": {},
     "output_type": "execute_result"
    }
   ],
   "source": [
    "avg_users_for_each_poi = float(counts_user) / pois_count\n",
    "print avg_users_for_each_poi\n",
    "\n",
    "avg_users_for_each_poi = round(avg_users_for_each_poi, 1)\n",
    "print avg_users_for_each_poi\n",
    "avg_users_for_each_poi"
   ]
  },
  {
   "cell_type": "code",
   "execution_count": null,
   "metadata": {
    "collapsed": true
   },
   "outputs": [],
   "source": []
  },
  {
   "cell_type": "code",
   "execution_count": 8,
   "metadata": {
    "collapsed": true
   },
   "outputs": [],
   "source": [
    "from pandas import Series, DataFrame\n",
    "import pandas as pd"
   ]
  },
  {
   "cell_type": "code",
   "execution_count": 28,
   "metadata": {
    "collapsed": true
   },
   "outputs": [],
   "source": [
    "data = {'Instagram': [user_count, pois_count, check_ins, avg_che_ins_of_each_user, avg_pois_for_each_user, avg_users_for_each_poi]}\n",
    "frame = DataFrame(data, columns=['Instagram'], index = ['#users','#POIs','#check-ins','Avg. #check-ins of each user', 'Avg. #POIs for each user', 'Avg. #users for each POI'])\n"
   ]
  },
  {
   "cell_type": "code",
   "execution_count": 29,
   "metadata": {
    "collapsed": false
   },
   "outputs": [
    {
     "data": {
      "text/html": [
       "<div style=\"max-height:1000px;max-width:1500px;overflow:auto;\">\n",
       "<table border=\"1\" class=\"dataframe\">\n",
       "  <thead>\n",
       "    <tr style=\"text-align: right;\">\n",
       "      <th></th>\n",
       "      <th>Instagram</th>\n",
       "    </tr>\n",
       "  </thead>\n",
       "  <tbody>\n",
       "    <tr>\n",
       "      <th>#users</th>\n",
       "      <td>   66395.0</td>\n",
       "    </tr>\n",
       "    <tr>\n",
       "      <th>#POIs</th>\n",
       "      <td>   15596.0</td>\n",
       "    </tr>\n",
       "    <tr>\n",
       "      <th>#check-ins</th>\n",
       "      <td> 1886276.0</td>\n",
       "    </tr>\n",
       "    <tr>\n",
       "      <th>Avg. #check-ins of each user</th>\n",
       "      <td>      28.4</td>\n",
       "    </tr>\n",
       "    <tr>\n",
       "      <th>Avg. #POIs for each user</th>\n",
       "      <td>      14.3</td>\n",
       "    </tr>\n",
       "    <tr>\n",
       "      <th>Avg. #users for each POI</th>\n",
       "      <td>     141.6</td>\n",
       "    </tr>\n",
       "  </tbody>\n",
       "</table>\n",
       "<p>6 rows × 1 columns</p>\n",
       "</div>"
      ],
      "text/plain": [
       "                              Instagram\n",
       "#users                          66395.0\n",
       "#POIs                           15596.0\n",
       "#check-ins                    1886276.0\n",
       "Avg. #check-ins of each user       28.4\n",
       "Avg. #POIs for each user           14.3\n",
       "Avg. #users for each POI          141.6\n",
       "\n",
       "[6 rows x 1 columns]"
      ]
     },
     "execution_count": 29,
     "metadata": {},
     "output_type": "execute_result"
    }
   ],
   "source": [
    "frame"
   ]
  },
  {
   "cell_type": "code",
   "execution_count": 3,
   "metadata": {
    "collapsed": true
   },
   "outputs": [],
   "source": [
    "import operator\n",
    "import time"
   ]
  },
  {
   "cell_type": "code",
   "execution_count": 4,
   "metadata": {
    "collapsed": true
   },
   "outputs": [],
   "source": [
    "with open(\"users.json\", 'r') as k:\n",
    "    users_origin = json.load(k)"
   ]
  },
  {
   "cell_type": "code",
   "execution_count": 5,
   "metadata": {
    "collapsed": true
   },
   "outputs": [],
   "source": [
    "for user in users.keys():\n",
    "    for post in users[user].keys():\n",
    "        users[user][post]['created_time'] = users_origin[user][post]['created_time']"
   ]
  },
  {
   "cell_type": "code",
   "execution_count": 43,
   "metadata": {
    "collapsed": false
   },
   "outputs": [],
   "source": [
    "#count how many days\n",
    "day_c = 0\n",
    "post_each_day = 0\n",
    "for user in users.keys():\n",
    "    dic = {}\n",
    "    for post in users[user].keys():\n",
    "        times = users[user][post]['created_time']\n",
    "        timeset = times[0]*100 + times[2]\n",
    "        dic[timeset] = (users[user][post]['poi'])\n",
    "    sorted_dic = sorted(dic.items(), key=operator.itemgetter(0))\n",
    "\n",
    "            \n",
    "    \n",
    "    pre_t,pre_poi = sorted_dic[0]\n",
    "    pre_t = pre_t / 100\n",
    "    day_c = day_c + 1\n",
    "    for (aa,bb) in sorted_dic:\n",
    "        cur_t = aa / 100\n",
    "        if(cur_t != pre_t):\n",
    "            day_c = day_c + 1\n",
    "            pre_t = cur_t"
   ]
  },
  {
   "cell_type": "code",
   "execution_count": 46,
   "metadata": {
    "collapsed": false
   },
   "outputs": [
    {
     "data": {
      "text/plain": [
       "2012011703"
      ]
     },
     "execution_count": 46,
     "metadata": {},
     "output_type": "execute_result"
    }
   ],
   "source": [
    "timeset"
   ]
  },
  {
   "cell_type": "code",
   "execution_count": 48,
   "metadata": {
    "collapsed": false
   },
   "outputs": [
    {
     "data": {
      "text/plain": [
       "1276423"
      ]
     },
     "execution_count": 48,
     "metadata": {},
     "output_type": "execute_result"
    }
   ],
   "source": [
    "day_c"
   ]
  },
  {
   "cell_type": "code",
   "execution_count": 49,
   "metadata": {
    "collapsed": false
   },
   "outputs": [
    {
     "data": {
      "text/plain": [
       "1.4777828353139986"
      ]
     },
     "execution_count": 49,
     "metadata": {},
     "output_type": "execute_result"
    }
   ],
   "source": [
    "float(check_ins)/day_c"
   ]
  },
  {
   "cell_type": "code",
   "execution_count": 17,
   "metadata": {
    "collapsed": false
   },
   "outputs": [],
   "source": [
    "#count how many days except small user_write one to one\n",
    "day_c = 0\n",
    "post_each_day = 0\n",
    "post_cnt_this_user = 0\n",
    "user_c = 0\n",
    "dics = {}\n",
    "total_post = 1886276\n",
    "\n",
    "total_day = 0\n",
    "\n",
    "for user in users.keys():\n",
    "    dic = {}\n",
    "    post_cnt_this_user = len(users[user].keys())\n",
    "    \n",
    "    for post in users[user].keys():\n",
    "        times = users[user][post]['created_time']\n",
    "        timeset = times[0]*100 + times[2]\n",
    "        dic[timeset] = (users[user][post]['poi'])\n",
    "    sorted_dic = sorted(dic.items(), key=operator.itemgetter(0))\n",
    "\n",
    "            \n",
    "    day_c = 0\n",
    "    pre_t,pre_poi = sorted_dic[0]\n",
    "    pre_t = pre_t / 100\n",
    "    day_c = day_c + 1\n",
    "    for (aa,bb) in sorted_dic:\n",
    "        cur_t = aa / 100\n",
    "        if(cur_t != pre_t):\n",
    "            day_c = day_c + 1\n",
    "            pre_t = cur_t\n",
    "    if(float(post_cnt_this_user)/day_c < 2):\n",
    "        print \"small\"\n",
    "        total_post = total_post - post_cnt_this_user\n",
    "        continue\n",
    "    total_day = total_day + day_c\n",
    "    user_c = user_c + 1\n",
    "    \n",
    "    for post in users[user].keys():\n",
    "        dics[users[user][post]['poi']] = 0\n",
    "    \n",
    "print \"total_day\", total_day\n",
    "print \"total_post\", total_post"
   ]
  },
  {
   "cell_type": "code",
   "execution_count": 10,
   "metadata": {
    "collapsed": false
   },
   "outputs": [],
   "source": [
    "#data = {'Before_Cut': [1886276,float(1886276)/1276423], 'After_Cut': [total_post, float(total_post)/total_day]}\n",
    "frame2 = DataFrame( columns=['Before_Cut','After_Cut','After / Before %'], index = ['#check-ins','Avg. #check-ins of each day'])"
   ]
  },
  {
   "cell_type": "code",
   "execution_count": 11,
   "metadata": {
    "collapsed": false
   },
   "outputs": [],
   "source": [
    "frame2['Before_Cut']['#check-ins'] = 1886276 \n",
    "frame2['After_Cut']['#check-ins'] = total_post\n",
    "\n",
    "frame2['Before_Cut']['Avg. #check-ins of each day'] = float(1886276)/1276423\n",
    "frame2['After_Cut']['Avg. #check-ins of each day'] = float(total_post)/total_day\n",
    "\n",
    "frame2['After / Before %']['#check-ins'] = 100*total_post/float(1886276)\n",
    "frame2['After / Before %']['Avg. #check-ins of each day'] = 100*(float(total_post)/total_day)/(float(1886276)/1276423)\n"
   ]
  },
  {
   "cell_type": "code",
   "execution_count": 12,
   "metadata": {
    "collapsed": false
   },
   "outputs": [
    {
     "data": {
      "text/html": [
       "<div style=\"max-height:1000px;max-width:1500px;overflow:auto;\">\n",
       "<table border=\"1\" class=\"dataframe\">\n",
       "  <thead>\n",
       "    <tr style=\"text-align: right;\">\n",
       "      <th></th>\n",
       "      <th>Before_Cut</th>\n",
       "      <th>After_Cut</th>\n",
       "      <th>After / Before %</th>\n",
       "    </tr>\n",
       "  </thead>\n",
       "  <tbody>\n",
       "    <tr>\n",
       "      <th>#check-ins</th>\n",
       "      <td>  1886276</td>\n",
       "      <td>   489444</td>\n",
       "      <td> 25.94763</td>\n",
       "    </tr>\n",
       "    <tr>\n",
       "      <th>Avg. #check-ins of each day</th>\n",
       "      <td> 1.477783</td>\n",
       "      <td> 3.283801</td>\n",
       "      <td> 222.2114</td>\n",
       "    </tr>\n",
       "  </tbody>\n",
       "</table>\n",
       "<p>2 rows × 3 columns</p>\n",
       "</div>"
      ],
      "text/plain": [
       "                            Before_Cut After_Cut After / Before %\n",
       "#check-ins                     1886276    489444         25.94763\n",
       "Avg. #check-ins of each day   1.477783  3.283801         222.2114\n",
       "\n",
       "[2 rows x 3 columns]"
      ]
     },
     "execution_count": 12,
     "metadata": {},
     "output_type": "execute_result"
    }
   ],
   "source": [
    "#instagram dataset \n",
    "frame2"
   ]
  },
  {
   "cell_type": "code",
   "execution_count": 39,
   "metadata": {
    "collapsed": false
   },
   "outputs": [
    {
     "data": {
      "text/plain": [
       "0"
      ]
     },
     "execution_count": 39,
     "metadata": {},
     "output_type": "execute_result"
    }
   ],
   "source": []
  },
  {
   "cell_type": "code",
   "execution_count": 2,
   "metadata": {
    "collapsed": true
   },
   "outputs": [],
   "source": [
    "#data = {'Before_Cut': [1886276,float(1886276)/1276423], 'After_Cut': [total_post, float(total_post)/total_day]}\n",
    "frame2 = DataFrame( columns=['Before_Cut','After_Cut','After / Before %'], index = ['#check-ins','Avg. #check-ins of each day'])"
   ]
  },
  {
   "cell_type": "code",
   "execution_count": 4,
   "metadata": {
    "collapsed": false
   },
   "outputs": [],
   "source": [
    "frame2['Before_Cut']['#check-ins'] = 1886276 \n",
    "frame2['After_Cut']['#check-ins'] = 12\n",
    "\n",
    "frame2['Before_Cut']['Avg. #check-ins of each day'] = 123234\n",
    "frame2['After_Cut']['Avg. #check-ins of each day'] = 123423\n",
    "\n",
    "frame2['After / Before %']['#check-ins'] = 3415234\n",
    "frame2['After / Before %']['Avg. #check-ins of each day'] = 34153156\n"
   ]
  },
  {
   "cell_type": "code",
   "execution_count": 37,
   "metadata": {
    "collapsed": false
   },
   "outputs": [],
   "source": [
    "frame1 = frame2.iloc[:,:]"
   ]
  },
  {
   "cell_type": "code",
   "execution_count": 38,
   "metadata": {
    "collapsed": false
   },
   "outputs": [
    {
     "data": {
      "text/html": [
       "<div style=\"max-height:1000px;max-width:1500px;overflow:auto;\">\n",
       "<table border=\"1\" class=\"dataframe\">\n",
       "  <thead>\n",
       "    <tr style=\"text-align: right;\">\n",
       "      <th></th>\n",
       "      <th>Before_Cut</th>\n",
       "      <th>After_Cut</th>\n",
       "      <th>After / Before %</th>\n",
       "    </tr>\n",
       "  </thead>\n",
       "  <tbody>\n",
       "    <tr>\n",
       "      <th>#check-ins</th>\n",
       "      <td> 1886276</td>\n",
       "      <td>     12</td>\n",
       "      <td>  3415234</td>\n",
       "    </tr>\n",
       "    <tr>\n",
       "      <th>Avg. #check-ins of each day</th>\n",
       "      <td>  123234</td>\n",
       "      <td> 123423</td>\n",
       "      <td> 34153156</td>\n",
       "    </tr>\n",
       "  </tbody>\n",
       "</table>\n",
       "<p>2 rows × 3 columns</p>\n",
       "</div>"
      ],
      "text/plain": [
       "                            Before_Cut After_Cut After / Before %\n",
       "#check-ins                     1886276        12          3415234\n",
       "Avg. #check-ins of each day     123234    123423         34153156\n",
       "\n",
       "[2 rows x 3 columns]"
      ]
     },
     "execution_count": 38,
     "metadata": {},
     "output_type": "execute_result"
    }
   ],
   "source": [
    "frame1"
   ]
  },
  {
   "cell_type": "code",
   "execution_count": 70,
   "metadata": {
    "collapsed": true
   },
   "outputs": [],
   "source": [
    "frame1 = frame2.iloc[0:2,:]"
   ]
  },
  {
   "cell_type": "code",
   "execution_count": 71,
   "metadata": {
    "collapsed": false
   },
   "outputs": [
    {
     "data": {
      "text/html": [
       "<div style=\"max-height:1000px;max-width:1500px;overflow:auto;\">\n",
       "<table border=\"1\" class=\"dataframe\">\n",
       "  <thead>\n",
       "    <tr style=\"text-align: right;\">\n",
       "      <th></th>\n",
       "      <th>Before_Cut</th>\n",
       "      <th>After_Cut</th>\n",
       "      <th>After / Before %</th>\n",
       "    </tr>\n",
       "  </thead>\n",
       "  <tbody>\n",
       "    <tr>\n",
       "      <th>#check-ins</th>\n",
       "      <td> 1886276</td>\n",
       "      <td>     12</td>\n",
       "      <td>  3415234</td>\n",
       "    </tr>\n",
       "    <tr>\n",
       "      <th>Avg. #check-ins of each day</th>\n",
       "      <td>  123234</td>\n",
       "      <td> 123423</td>\n",
       "      <td> 34153156</td>\n",
       "    </tr>\n",
       "  </tbody>\n",
       "</table>\n",
       "<p>2 rows × 3 columns</p>\n",
       "</div>"
      ],
      "text/plain": [
       "                            Before_Cut After_Cut After / Before %\n",
       "#check-ins                     1886276        12          3415234\n",
       "Avg. #check-ins of each day     123234    123423         34153156\n",
       "\n",
       "[2 rows x 3 columns]"
      ]
     },
     "execution_count": 71,
     "metadata": {},
     "output_type": "execute_result"
    }
   ],
   "source": [
    "frame1"
   ]
  },
  {
   "cell_type": "code",
   "execution_count": 83,
   "metadata": {
    "collapsed": false
   },
   "outputs": [
    {
     "data": {
      "text/plain": [
       "Index([u'Before_Cut', u'After_Cut', u'After / Before %'], dtype='object')"
      ]
     },
     "execution_count": 83,
     "metadata": {},
     "output_type": "execute_result"
    }
   ],
   "source": [
    "frame1.columns"
   ]
  },
  {
   "cell_type": "code",
   "execution_count": 15,
   "metadata": {
    "collapsed": false
   },
   "outputs": [
    {
     "data": {
      "text/plain": [
       "13509"
      ]
     },
     "execution_count": 15,
     "metadata": {},
     "output_type": "execute_result"
    }
   ],
   "source": [
    "user_c"
   ]
  },
  {
   "cell_type": "code",
   "execution_count": 18,
   "metadata": {
    "collapsed": false,
    "scrolled": true
   },
   "outputs": [
    {
     "data": {
      "text/plain": [
       "10928"
      ]
     },
     "execution_count": 18,
     "metadata": {},
     "output_type": "execute_result"
    }
   ],
   "source": [
    "len(dics.keys())"
   ]
  },
  {
   "cell_type": "code",
   "execution_count": null,
   "metadata": {
    "collapsed": true
   },
   "outputs": [],
   "source": [
    "#count how many days except small user_write one to one\n",
    "day_c = 0\n",
    "post_each_day = 0\n",
    "post_cnt_this_user = 0\n",
    "user_c = 0\n",
    "dics = {}\n",
    "total_post = 1886276\n",
    "\n",
    "total_day = 0\n",
    "\n",
    "for user in users.keys():\n",
    "    dic = {}\n",
    "    \n",
    "    \n",
    "    for post in users[user].keys():\n",
    "        times = users[user][post]['created_time']\n",
    "        timeset = times[0]*100 + times[2]\n",
    "        dic[timeset] = (users[user][post]['poi'])\n",
    "    sorted_dic = sorted(dic.items(), key=operator.itemgetter(0))\n",
    "\n",
    "            \n",
    "    day_c = 0\n",
    "    pre_t,pre_poi = sorted_dic[0]\n",
    "    pre_t = pre_t / 100\n",
    "    day_c = day_c + 1\n",
    "    for (aa,bb) in sorted_dic:\n",
    "        cur_t = aa / 100\n",
    "        if(cur_t != pre_t):\n",
    "            day_c = day_c + 1\n",
    "            pre_t = cur_t\n",
    "    "
   ]
  },
  {
   "cell_type": "code",
   "execution_count": 24,
   "metadata": {
    "collapsed": false
   },
   "outputs": [
    {
     "data": {
      "text/plain": [
       "u'8688843'"
      ]
     },
     "execution_count": 24,
     "metadata": {},
     "output_type": "execute_result"
    }
   ],
   "source": [
    "users.keys()[0]"
   ]
  },
  {
   "cell_type": "code",
   "execution_count": 35,
   "metadata": {
    "collapsed": false
   },
   "outputs": [],
   "source": [
    "day_c = 0\n",
    "post_c = 0\n",
    "for user in users.keys():\n",
    "    dic = {}\n",
    "    \n",
    "    for post in users[user].keys():\n",
    "        times = users[user][post]['created_time']\n",
    "        timeset = times[0]\n",
    "        if(dic.get(timeset) != None):\n",
    "            dic[timeset] = dic[timeset] + 1\n",
    "        else:\n",
    "            dic[timeset] = 1\n",
    "    sorted_dic = sorted(dic.items(), key=operator.itemgetter(0))\n",
    "    \n",
    "    \n",
    "    day_count = len(sorted_dic)\n",
    "    if(len(users[user].keys()) / day_count < 2):\n",
    "        continue\n",
    "    day_c = day_c + day_count\n",
    "    post_c = post_c + len(users[user].keys())"
   ]
  },
  {
   "cell_type": "code",
   "execution_count": 37,
   "metadata": {
    "collapsed": false,
    "scrolled": true
   },
   "outputs": [
    {
     "data": {
      "text/plain": [
       "3.28380119156245"
      ]
     },
     "execution_count": 37,
     "metadata": {},
     "output_type": "execute_result"
    }
   ],
   "source": [
    "float(post_c) / day_c"
   ]
  },
  {
   "cell_type": "code",
   "execution_count": 49,
   "metadata": {
    "collapsed": false
   },
   "outputs": [],
   "source": [
    "#count, delete day which writes less than 3 posts per day\n",
    "day_c = 0\n",
    "post_c = 0\n",
    "user_c = 0\n",
    "poi_c = 0\n",
    "dic4 = {}\n",
    "for user in users.keys():\n",
    "    dic = {}\n",
    "    dic2 = {}\n",
    "    dic3 = {}\n",
    "    \n",
    "    check = 0\n",
    "    for post in users[user].keys():\n",
    "        times = users[user][post]['created_time']\n",
    "        timeset = times[0]\n",
    "        if(dic.get(timeset) != None):\n",
    "            dic[timeset] = dic[timeset] + 1\n",
    "            dic2[timeset][users[user][post]['poi']] = 0\n",
    "        else:\n",
    "            dic[timeset] = 1\n",
    "            dic3[users[user][post]['poi']] = 0\n",
    "            dic2[timeset] = dic3\n",
    "    sorted_dic = sorted(dic.items(), key=operator.itemgetter(0))\n",
    "    \n",
    "    for day,cnt in sorted_dic:\n",
    "        if(cnt<3):\n",
    "            del dic2[day]\n",
    "            continue\n",
    "        else:\n",
    "            poi_c = poi_c + len(dic2[day].keys())\n",
    "            check = 1\n",
    "            day_c = day_c + 1\n",
    "            post_c = post_c + cnt\n",
    "    dic4[user] = dic2\n",
    "    if check == 0:\n",
    "        continue\n",
    "    user_c = user_c + 1\n",
    "#     day_count = len(sorted_dic)\n",
    "#     if(len(users[user].keys()) / day_count < 2):\n",
    "#         continue\n",
    "#     day_c = day_c + day_count\n",
    "#     post_c = post_c + len(users[user].keys())\n"
   ]
  },
  {
   "cell_type": "code",
   "execution_count": 40,
   "metadata": {
    "collapsed": false
   },
   "outputs": [
    {
     "data": {
      "text/plain": [
       "549218"
      ]
     },
     "execution_count": 40,
     "metadata": {},
     "output_type": "execute_result"
    }
   ],
   "source": [
    "post_c"
   ]
  },
  {
   "cell_type": "code",
   "execution_count": 42,
   "metadata": {
    "collapsed": false
   },
   "outputs": [
    {
     "data": {
      "text/plain": [
       "33850"
      ]
     },
     "execution_count": 42,
     "metadata": {},
     "output_type": "execute_result"
    }
   ],
   "source": [
    "user_c"
   ]
  },
  {
   "cell_type": "code",
   "execution_count": 43,
   "metadata": {
    "collapsed": false
   },
   "outputs": [
    {
     "data": {
      "text/plain": [
       "114303"
      ]
     },
     "execution_count": 43,
     "metadata": {},
     "output_type": "execute_result"
    }
   ],
   "source": [
    "day_c"
   ]
  },
  {
   "cell_type": "code",
   "execution_count": 45,
   "metadata": {
    "collapsed": false
   },
   "outputs": [
    {
     "data": {
      "text/plain": [
       "4.804930754223424"
      ]
     },
     "execution_count": 45,
     "metadata": {},
     "output_type": "execute_result"
    }
   ],
   "source": [
    "float(post_c)/day_c"
   ]
  },
  {
   "cell_type": "code",
   "execution_count": 51,
   "metadata": {
    "collapsed": false
   },
   "outputs": [],
   "source": [
    "poi_c = {}\n",
    "for user in dic4.keys():\n",
    "    for time in dic4[user].keys():\n",
    "        for poi in dic4[user][time].keys():\n",
    "            poi_c[poi] = 0\n",
    "            "
   ]
  },
  {
   "cell_type": "code",
   "execution_count": 52,
   "metadata": {
    "collapsed": false
   },
   "outputs": [
    {
     "data": {
      "text/plain": [
       "14771"
      ]
     },
     "execution_count": 52,
     "metadata": {},
     "output_type": "execute_result"
    }
   ],
   "source": [
    "len(poi_c.keys())"
   ]
  },
  {
   "cell_type": "code",
   "execution_count": null,
   "metadata": {
    "collapsed": true
   },
   "outputs": [],
   "source": [
    "#count each 2days\n",
    "day_c = 0\n",
    "post_c = 0\n",
    "user_c = 0\n",
    "poi_c = 0\n",
    "dic4 = {}\n",
    "\n",
    "for user in users.keys():\n",
    "    dic = {}\n",
    "    dic2 = {}\n",
    "    dic3 = {}\n",
    "    \n",
    "    check = 0\n",
    "    for post in users[user].keys():\n",
    "        times = users[user][post]['created_time']\n",
    "        timeset = times[0]\n",
    "        if(dic.get(timeset) != None):\n",
    "            dic[timeset] = dic[timeset] + 1\n",
    "            dic2[timeset][users[user][post]['poi']] = 0\n",
    "        else:\n",
    "            dic[timeset] = 1\n",
    "            dic3[users[user][post]['poi']] = 0\n",
    "            dic2[timeset] = dic3\n",
    "    sorted_dic = sorted(dic.items(), key=operator.itemgetter(0))\n",
    "    \n",
    "    for day,cnt in sorted_dic:\n",
    "        if(cnt<3):\n",
    "            del dic2[day]\n",
    "            continue\n",
    "        else:\n",
    "            poi_c = poi_c + len(dic2[day].keys())\n",
    "            check = 1\n",
    "            day_c = day_c + 1\n",
    "            post_c = post_c + cnt\n",
    "    dic4[user] = dic2\n",
    "    if check == 0:\n",
    "        continue\n",
    "    user_c = user_c + 1\n"
   ]
  },
  {
   "cell_type": "code",
   "execution_count": 57,
   "metadata": {
    "collapsed": false
   },
   "outputs": [
    {
     "data": {
      "text/plain": [
       "{u'1268451411188519407_8688843': {u'created_time': [20160609, 3, 0],\n",
       "  u'poi': u'Sakara Life HQ'},\n",
       " u'1273330042553504112_8688843': {u'created_time': [20160615, 2, 17],\n",
       "  u'poi': u'Sakara Life HQ'},\n",
       " u'1284903772141478089_8688843': {u'created_time': [20160701, 4, 17],\n",
       "  u'poi': u'Film Noir Video Greenpoint Brooklyn'},\n",
       " u'1291404219815709734_8688843': {u'created_time': [20160710, 6, 16],\n",
       "  u'poi': u'Littleneck Outpost'},\n",
       " u'1311146144793652195_8688843': {u'created_time': [20160806, 5, 22],\n",
       "  u'poi': u'Film Noir Video Greenpoint Brooklyn'},\n",
       " u'1312299309312414525_8688843': {u'created_time': [20160808, 0, 12],\n",
       "  u'poi': u'Film Noir Video Greenpoint Brooklyn'},\n",
       " u'1317659311292161128_8688843': {u'created_time': [20160815, 0, 21],\n",
       "  u'poi': u'Film Noir Video Greenpoint Brooklyn'},\n",
       " u'1319198631228515551_8688843': {u'created_time': [20160818, 3, 0],\n",
       "  u'poi': u'Film Noir Video Greenpoint Brooklyn'},\n",
       " u'1321862253016589153_8688843': {u'created_time': [20160821, 6, 16],\n",
       "  u'poi': u'Bluestone Lane'},\n",
       " u'1327039987162313137_8688843': {u'created_time': [20160828, 6, 20],\n",
       "  u'poi': u'McCarren Park'},\n",
       " u'1327135447885554713_8688843': {u'created_time': [20160828, 6, 23],\n",
       "  u'poi': u'Film Noir Video Greenpoint Brooklyn'},\n",
       " u'1332191355678449430_8688843': {u'created_time': [20160904, 6, 22],\n",
       "  u'poi': u'McCarren Park'},\n",
       " u'1340861560969457381_8688843': {u'created_time': [20160916, 4, 21],\n",
       "  u'poi': u'Planet Fitness'},\n",
       " u'1345274395329812292_8688843': {u'created_time': [20160923, 4, 0],\n",
       "  u'poi': u'Union Square Greenmarket'}}"
      ]
     },
     "execution_count": 57,
     "metadata": {},
     "output_type": "execute_result"
    }
   ],
   "source": [
    "users[user][post]"
   ]
  },
  {
   "cell_type": "code",
   "execution_count": 60,
   "metadata": {
    "collapsed": false
   },
   "outputs": [],
   "source": [
    "cnt =0\n",
    "for user in users.keys():\n",
    "    time = 0\n",
    "    for post in users[user].keys():\n",
    "        if(time == 0 ):\n",
    "            time = users[user][post]['created_time'][0] / 10000\n",
    "        if(time != users[user][post]['created_time'][0] / 10000):\n",
    "            cnt = cnt + 1\n",
    "            "
   ]
  },
  {
   "cell_type": "code",
   "execution_count": 61,
   "metadata": {
    "collapsed": false
   },
   "outputs": [
    {
     "data": {
      "text/plain": [
       "269979"
      ]
     },
     "execution_count": 61,
     "metadata": {},
     "output_type": "execute_result"
    }
   ],
   "source": [
    "cnt"
   ]
  }
 ],
 "metadata": {
  "kernelspec": {
   "display_name": "Python 2",
   "language": "python",
   "name": "python2"
  },
  "language_info": {
   "codemirror_mode": {
    "name": "ipython",
    "version": 2
   },
   "file_extension": ".py",
   "mimetype": "text/x-python",
   "name": "python",
   "nbconvert_exporter": "python",
   "pygments_lexer": "ipython2",
   "version": "2.7.6"
  }
 },
 "nbformat": 4,
 "nbformat_minor": 1
}
