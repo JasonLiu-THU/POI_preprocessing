{
 "cells": [
  {
   "cell_type": "code",
   "execution_count": 1,
   "metadata": {
    "collapsed": true
   },
   "outputs": [],
   "source": [
    "from __future__ import unicode_literals\n",
    "import sys\n",
    "reload(sys)\n",
    "sys.setdefaultencoding('utf-8')"
   ]
  },
  {
   "cell_type": "code",
   "execution_count": 2,
   "metadata": {
    "collapsed": true
   },
   "outputs": [],
   "source": [
    "#for second dataset\n",
    "import json\n",
    "\n",
    "with open(\"/../hdd1/poi-recommendation/raw/new/pois.json\", \"r\")as f:\n",
    "    pois = json.load(f)\n",
    "with open(\"/../hdd1/poi-recommendation/raw/new/users.json\", \"r\")as g:\n",
    "    users = json.load(g)\n",
    "with open(\"/../hdd1/poi-recommendation/raw/new/postss.json\", \"r\")as h:\n",
    "    posts = json.load(h)"
   ]
  },
  {
   "cell_type": "code",
   "execution_count": 3,
   "metadata": {
    "collapsed": true
   },
   "outputs": [],
   "source": [
    "#for first dataset\n",
    "import json\n",
    "\n",
    "with open(\"/../hdd1/poi-recommendation/raw/pois.json\", \"r\")as f:\n",
    "    pois = json.load(f)\n",
    "with open(\"/../hdd1/poi-recommendation/raw/users.json\", \"r\")as g:\n",
    "    users = json.load(g)\n",
    "with open(\"/../hdd1/poi-recommendation/raw/posts.json\", \"r\")as h:\n",
    "    posts = json.load(h)"
   ]
  },
  {
   "cell_type": "code",
   "execution_count": 3,
   "metadata": {
    "collapsed": false
   },
   "outputs": [],
   "source": [
    "dic = {}\n",
    "\n",
    "for poi_na in pois.keys():\n",
    "    for pos_id in pois[poi_na]['contents'].keys():\n",
    "        dic[pos_id] = poi_na"
   ]
  },
  {
   "cell_type": "code",
   "execution_count": 5,
   "metadata": {
    "collapsed": false
   },
   "outputs": [],
   "source": [
    "f = open(\"data.txt\", 'w')\n",
    "\n",
    "#us_id :: user_id  \n",
    "#po_id :: post_id\n",
    "for us_id in users.keys():\n",
    "    a=[]\n",
    "    f.write(us_id)\n",
    "    for po_id in users[us_id].keys():\n",
    "        a.append((posts[po_id]['created_time'], dic[po_id]))\n",
    "\n",
    "        a.sort()\n",
    "    for (t, poi_na) in a:\n",
    "        f.write(\"\\t\")\n",
    "        f.write(poi_na)\n",
    "    \n",
    "    f.write(\"\\n\")\n",
    "    \n",
    "\n",
    "\n",
    "f.close()"
   ]
  }
 ],
 "metadata": {
  "kernelspec": {
   "display_name": "Python 2",
   "language": "python",
   "name": "python2"
  },
  "language_info": {
   "codemirror_mode": {
    "name": "ipython",
    "version": 2
   },
   "file_extension": ".py",
   "mimetype": "text/x-python",
   "name": "python",
   "nbconvert_exporter": "python",
   "pygments_lexer": "ipython2",
   "version": "2.7.6"
  }
 },
 "nbformat": 4,
 "nbformat_minor": 1
}
