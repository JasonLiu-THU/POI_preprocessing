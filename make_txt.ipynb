{
 "cells": [
  {
   "cell_type": "code",
   "execution_count": 1,
   "metadata": {
    "collapsed": true
   },
   "outputs": [],
   "source": [
    "from __future__ import unicode_literals\n",
    "import sys\n",
    "reload(sys)\n",
    "sys.setdefaultencoding('utf-8')\n",
    "\n",
    "#for team dataset\n",
    "import json\n",
    "import os\n",
    "import time"
   ]
  },
  {
   "cell_type": "code",
   "execution_count": 2,
   "metadata": {
    "collapsed": true
   },
   "outputs": [],
   "source": [
    "with open(\"dataset/posts.json\", 'r') as t:\n",
    "    posts = json.load(t)\n",
    "with open(\"dataset/pois.json\", 'r') as h:\n",
    "    pois = json.load(h)\n",
    "with open(\"dataset/users.json\", 'r') as g:\n",
    "    users = json.load(g)"
   ]
  },
  {
   "cell_type": "code",
   "execution_count": 4,
   "metadata": {
    "collapsed": true
   },
   "outputs": [],
   "source": [
    "with open(\"users.json\", 'r') as k:\n",
    "    users_origin = json.load(k)"
   ]
  },
  {
   "cell_type": "code",
   "execution_count": 12,
   "metadata": {
    "collapsed": false
   },
   "outputs": [
    {
     "data": {
      "text/plain": [
       "{u'1032914968282444252_212362603': {u'created_time': [20150720, 0, 0],\n",
       "  u'poi': u'Rockefeller Center, New York'}}"
      ]
     },
     "execution_count": 12,
     "metadata": {},
     "output_type": "execute_result"
    }
   ],
   "source": [
    "# for user in users.keys():\n",
    "#     c_t = users_origin[user]\n",
    "\n",
    "users_origin['212362603']"
   ]
  },
  {
   "cell_type": "code",
   "execution_count": 10,
   "metadata": {
    "collapsed": true
   },
   "outputs": [],
   "source": [
    "for user in users.keys():\n",
    "    if(users_origin.get(user) == None):\n",
    "        print \"no user\""
   ]
  },
  {
   "cell_type": "code",
   "execution_count": 13,
   "metadata": {
    "collapsed": true
   },
   "outputs": [],
   "source": [
    "for user in users.keys():\n",
    "    for post in users[user].keys():\n",
    "        users[user][post]['created_time'] = users_origin[user][post]['created_time']"
   ]
  },
  {
   "cell_type": "code",
   "execution_count": 15,
   "metadata": {
    "collapsed": false
   },
   "outputs": [
    {
     "data": {
      "text/plain": [
       "u'8688843'"
      ]
     },
     "execution_count": 15,
     "metadata": {},
     "output_type": "execute_result"
    }
   ],
   "source": [
    "users.keys()[0]"
   ]
  },
  {
   "cell_type": "code",
   "execution_count": 16,
   "metadata": {
    "collapsed": false
   },
   "outputs": [
    {
     "data": {
      "text/plain": [
       "{u'1268451411188519407_8688843': {u'created_time': [20160609, 3, 0],\n",
       "  u'poi': u'Sakara Life HQ'},\n",
       " u'1273330042553504112_8688843': {u'created_time': [20160615, 2, 17],\n",
       "  u'poi': u'Sakara Life HQ'},\n",
       " u'1284903772141478089_8688843': {u'created_time': [20160701, 4, 17],\n",
       "  u'poi': u'Film Noir Video Greenpoint Brooklyn'},\n",
       " u'1291404219815709734_8688843': {u'created_time': [20160710, 6, 16],\n",
       "  u'poi': u'Littleneck Outpost'},\n",
       " u'1311146144793652195_8688843': {u'created_time': [20160806, 5, 22],\n",
       "  u'poi': u'Film Noir Video Greenpoint Brooklyn'},\n",
       " u'1312299309312414525_8688843': {u'created_time': [20160808, 0, 12],\n",
       "  u'poi': u'Film Noir Video Greenpoint Brooklyn'},\n",
       " u'1317659311292161128_8688843': {u'created_time': [20160815, 0, 21],\n",
       "  u'poi': u'Film Noir Video Greenpoint Brooklyn'},\n",
       " u'1319198631228515551_8688843': {u'created_time': [20160818, 3, 0],\n",
       "  u'poi': u'Film Noir Video Greenpoint Brooklyn'},\n",
       " u'1321862253016589153_8688843': {u'created_time': [20160821, 6, 16],\n",
       "  u'poi': u'Bluestone Lane'},\n",
       " u'1327039987162313137_8688843': {u'created_time': [20160828, 6, 20],\n",
       "  u'poi': u'McCarren Park'},\n",
       " u'1327135447885554713_8688843': {u'created_time': [20160828, 6, 23],\n",
       "  u'poi': u'Film Noir Video Greenpoint Brooklyn'},\n",
       " u'1332191355678449430_8688843': {u'created_time': [20160904, 6, 22],\n",
       "  u'poi': u'McCarren Park'},\n",
       " u'1340861560969457381_8688843': {u'created_time': [20160916, 4, 21],\n",
       "  u'poi': u'Planet Fitness'},\n",
       " u'1345274395329812292_8688843': {u'created_time': [20160923, 4, 0],\n",
       "  u'poi': u'Union Square Greenmarket'}}"
      ]
     },
     "execution_count": 16,
     "metadata": {},
     "output_type": "execute_result"
    }
   ],
   "source": [
    "users['8688843']"
   ]
  },
  {
   "cell_type": "code",
   "execution_count": 18,
   "metadata": {
    "collapsed": true
   },
   "outputs": [],
   "source": [
    "import operator"
   ]
  },
  {
   "cell_type": "code",
   "execution_count": 23,
   "metadata": {
    "collapsed": false
   },
   "outputs": [],
   "source": [
    "skip_gram = open(\"dataset/skip_gram.txt\", \"w\")\n",
    "\n",
    "for user in users.keys():\n",
    "    dic = {}\n",
    "    for post in users[user].keys():\n",
    "        times = users[user][post]['created_time']\n",
    "        timeset = times[0]*100 + times[2]\n",
    "        dic[timeset] = users[user][post]['poi']\n",
    "    sorted_dic = sorted(dic.items(), key=operator.itemgetter(0))\n",
    "    skip_gram.write(user)\n",
    "    for (a,b) in sorted_dic:\n",
    "        skip_gram.write('\\t')\n",
    "        skip_gram.write(b)\n",
    "        \n",
    "    skip_gram.write('\\n')\n",
    "\n",
    "        \n",
    "    \n",
    "    \n",
    "    \n",
    "    \n",
    "skip_gram.close()"
   ]
  },
  {
   "cell_type": "code",
   "execution_count": 39,
   "metadata": {
    "collapsed": false
   },
   "outputs": [],
   "source": [
    "#for our_1\n",
    "our_1 = open(\"dataset/our_1.txt\", \"w\")\n",
    "\n",
    "for user in users.keys():\n",
    "    dic = {}\n",
    "    for post in users[user].keys():\n",
    "        times = users[user][post]['created_time']\n",
    "        timeset = times[0]*100 + times[2]\n",
    "        dic[timeset] = (users[user][post]['poi'], post)\n",
    "    sorted_dic = sorted(dic.items(), key=operator.itemgetter(0))\n",
    "#     for (a,(b,c)) in sorted_dic:\n",
    "#         print a\n",
    "#     break\n",
    "    for (a,(b,c)) in sorted_dic:\n",
    "        our_1.write(user)\n",
    "        our_1.write('\\t')\n",
    "        our_1.write(b)\n",
    "        our_1.write('\\t')\n",
    "        our_1.write(posts[c]['content'])\n",
    "        our_1.write('\\n')\n",
    "    \n",
    "#     pre_t,pre_poi = sorted_dic[0]\n",
    "#     pre_t = pre_t / 100\n",
    "#     our_1.write(user)\n",
    "#     for (a,b) in sorted_dic:\n",
    "#         cur_t = a / 100\n",
    "#         if(cur_t != pre_t):\n",
    "#             our_1.write('\\n')\n",
    "#             our_1.write(user)\n",
    "#             pre_t = cur_t\n",
    "#         our_1.write('\\t')\n",
    "#         our_1.write(str(cur_t))\n",
    "#     our_1.write('\\n')\n",
    "\n",
    "        \n",
    "    \n",
    "    \n",
    "    \n",
    "    \n",
    "our_1.close()"
   ]
  },
  {
   "cell_type": "code",
   "execution_count": 30,
   "metadata": {
    "collapsed": false
   },
   "outputs": [
    {
     "data": {
      "text/plain": [
       "1"
      ]
     },
     "execution_count": 30,
     "metadata": {},
     "output_type": "execute_result"
    }
   ],
   "source": [
    "a = [(1,2)]\n",
    "\n",
    "b,c = a[0]\n",
    "b"
   ]
  },
  {
   "cell_type": "code",
   "execution_count": 43,
   "metadata": {
    "collapsed": false
   },
   "outputs": [],
   "source": [
    "#Geo-TEASER\n",
    "\n",
    "geo_T = open(\"dataset/Geo_TEASER.txt\", \"w\")\n",
    "\n",
    "for user in users.keys():\n",
    "    dic = {}\n",
    "    for post in users[user].keys():\n",
    "        times = users[user][post]['created_time']\n",
    "        timeset = times[0]*100 + times[2]\n",
    "        dic[timeset] = (users[user][post]['poi'], post, times[1])\n",
    "    sorted_dic = sorted(dic.items(), key=operator.itemgetter(0))\n",
    "    \n",
    "    \n",
    "    #a : total time\n",
    "    #b : poi\n",
    "    #c : post_id\n",
    "    #d : day\n",
    "    #time : a%100\n",
    "    for (a,(b,c,d)) in sorted_dic:\n",
    "        geo_T.write(user)\n",
    "        geo_T.write('\\t')\n",
    "        geo_T.write(b)\n",
    "        geo_T.write('\\t')\n",
    "        lat,lng = pois[b]['gps']\n",
    "        geo_T.write(str(lat))\n",
    "        geo_T.write('\\t')\n",
    "        geo_T.write(str(lng))\n",
    "        geo_T.write('\\t')\n",
    "        geo_T.write(str(d))\n",
    "        geo_T.write('\\t')\n",
    "        real_time = a%100\n",
    "        geo_T.write(str(real_time))\n",
    "        geo_T.write('\\n')\n",
    "     \n",
    "    \n",
    "    \n",
    "    \n",
    "    \n",
    "geo_T.close()"
   ]
  },
  {
   "cell_type": "code",
   "execution_count": 44,
   "metadata": {
    "collapsed": true
   },
   "outputs": [],
   "source": [
    "#our_2\n",
    "\n",
    "geo_T = open(\"dataset/our_2.txt\", \"w\")\n",
    "\n",
    "for user in users.keys():\n",
    "    dic = {}\n",
    "    for post in users[user].keys():\n",
    "        times = users[user][post]['created_time']\n",
    "        timeset = times[0]*100 + times[2]\n",
    "        dic[timeset] = (users[user][post]['poi'], post, times[1])\n",
    "    sorted_dic = sorted(dic.items(), key=operator.itemgetter(0))\n",
    "    \n",
    "    \n",
    "    #a : total time\n",
    "    #b : poi\n",
    "    #c : post_id\n",
    "    #d : day\n",
    "    #time : a%100\n",
    "    for (a,(b,c,d)) in sorted_dic:\n",
    "        geo_T.write(user)\n",
    "        geo_T.write('\\t')\n",
    "        geo_T.write(b)\n",
    "        geo_T.write('\\t')\n",
    "        lat,lng = pois[b]['gps']\n",
    "        geo_T.write(str(lat))\n",
    "        geo_T.write('\\t')\n",
    "        geo_T.write(str(lng))\n",
    "        geo_T.write('\\t')\n",
    "        geo_T.write(str(d))\n",
    "        geo_T.write('\\t')\n",
    "        real_time = a%100\n",
    "        geo_T.write(str(real_time))\n",
    "        \n",
    "        geo_T.write('\\t')\n",
    "        geo_T.write(posts[c]['content'])\n",
    "        geo_T.write('\\n')\n",
    "     \n",
    "    \n",
    "    \n",
    "    \n",
    "    \n",
    "geo_T.close()"
   ]
  }
 ],
 "metadata": {
  "kernelspec": {
   "display_name": "Python 2",
   "language": "python",
   "name": "python2"
  },
  "language_info": {
   "codemirror_mode": {
    "name": "ipython",
    "version": 2
   },
   "file_extension": ".py",
   "mimetype": "text/x-python",
   "name": "python",
   "nbconvert_exporter": "python",
   "pygments_lexer": "ipython2",
   "version": "2.7.6"
  }
 },
 "nbformat": 4,
 "nbformat_minor": 1
}
