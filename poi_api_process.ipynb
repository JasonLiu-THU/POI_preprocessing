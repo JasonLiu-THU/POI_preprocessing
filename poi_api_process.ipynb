{
 "cells": [
  {
   "cell_type": "code",
   "execution_count": 1,
   "metadata": {
    "collapsed": true
   },
   "outputs": [],
   "source": [
    "from __future__ import unicode_literals\n",
    "import sys\n",
    "reload(sys)\n",
    "sys.setdefaultencoding('utf-8')\n",
    "\n",
    "#for team dataset\n",
    "import json\n",
    "import os\n",
    "import time"
   ]
  },
  {
   "cell_type": "code",
   "execution_count": 2,
   "metadata": {
    "collapsed": true
   },
   "outputs": [],
   "source": [
    "with open(\"pois2.json\", \"r\")as f:\n",
    "    pois = json.load(f)\n",
    "with open(\"posts2.json\", \"r\")as f:\n",
    "    posts = json.load(f)\n",
    "with open(\"users2.json\", \"r\")as f:\n",
    "    users = json.load(f)\n",
    "with open(\"/../hdd1/buru/our/resolution.json\", \"r\")as f:\n",
    "    resolution = json.load(f)"
   ]
  },
  {
   "cell_type": "code",
   "execution_count": 4,
   "metadata": {
    "collapsed": false
   },
   "outputs": [
    {
     "data": {
      "text/plain": [
       "u'East 3rd Street.'"
      ]
     },
     "execution_count": 4,
     "metadata": {},
     "output_type": "execute_result"
    }
   ],
   "source": [
    "pois.keys()[0]"
   ]
  },
  {
   "cell_type": "code",
   "execution_count": 7,
   "metadata": {
    "collapsed": false
   },
   "outputs": [
    {
     "data": {
      "text/plain": [
       "u'Family Dentistry 561 East 3rd'"
      ]
     },
     "execution_count": 7,
     "metadata": {},
     "output_type": "execute_result"
    }
   ],
   "source": [
    "resolution.get('East 3rd Street.')"
   ]
  },
  {
   "cell_type": "code",
   "execution_count": 49,
   "metadata": {
    "collapsed": false
   },
   "outputs": [
    {
     "data": {
      "text/plain": [
       "False"
      ]
     },
     "execution_count": 49,
     "metadata": {},
     "output_type": "execute_result"
    }
   ],
   "source": [
    "'1750977340' in users.keys()"
   ]
  },
  {
   "cell_type": "code",
   "execution_count": 6,
   "metadata": {
    "collapsed": false,
    "scrolled": true
   },
   "outputs": [
    {
     "data": {
      "text/plain": [
       "{u'pois': [u'Central Park',\n",
       "  u'Freedom Tower',\n",
       "  u'New York, New York',\n",
       "  u'Financial District',\n",
       "  u'The Brooklyn Bridge New York City',\n",
       "  u'New York, New York',\n",
       "  u'Barcelona, Spain',\n",
       "  u'Barcelona, Spain',\n",
       "  u'Barcelona, Spain',\n",
       "  u'Barcelona, Spain'],\n",
       " u'posts': [u'1306617106972115520_27281188',\n",
       "  u'1244876701508474876_27281188',\n",
       "  u'1292556883332514730_27281188',\n",
       "  u'1258190789940516504_27281188',\n",
       "  u'1333935685459334612_27281188',\n",
       "  u'1280716202104471936_27281188',\n",
       "  u'1275465717278480064_27281188',\n",
       "  u'1274763126311654872_27281188',\n",
       "  u'1274790319192446505_27281188',\n",
       "  u'1281305924619146119_27281188']}"
      ]
     },
     "execution_count": 6,
     "metadata": {},
     "output_type": "execute_result"
    }
   ],
   "source": [
    "users['27281188']"
   ]
  },
  {
   "cell_type": "code",
   "execution_count": 9,
   "metadata": {
    "collapsed": false
   },
   "outputs": [],
   "source": [
    "cnt = 0 \n",
    "for poi in pois.keys():\n",
    "    cnt = cnt+1\n",
    "    if(cnt%100 == 0):\n",
    "        print cnt, \"iteration\"\n",
    "    poi_api = resolution.get(poi)\n",
    "    if(poi_api == None):\n",
    "        print \"poi_api is None\"\n",
    "        #remove this poi\n",
    "        post_list = pois[poi]['posts'].keys()\n",
    "        del pois[poi]\n",
    "        for post_id in post_list:\n",
    "            user_id = posts[post_id]['user']\n",
    "            del users[user_id][post_id]\n",
    "            del posts[post_id]\n",
    "        continue\n",
    "    \n",
    "    if(poi_api != poi):\n",
    "        print \"mix poi\"\n",
    "        #mix poi into poi_api\n",
    "        if(pois.get(poi_api) == None):\n",
    "            pois[poi_api] = pois[poi]\n",
    "        else:\n",
    "            for post_id in pois[poi]['posts'].keys():\n",
    "                pois[poi_api]['posts'][post_id] = None\n",
    "            for user_id in pois[poi]['users'].keys():\n",
    "                pois[poi_api]['users'][user_id] = None\n",
    "        \n",
    "        for post_id in pois[poi]['posts'].keys():\n",
    "            posts[post_id]['poi'] = poi_api\n",
    "            user_id = posts[post_id]['user']\n",
    "#             print post_id\n",
    "#             print user_id\n",
    "            users[user_id][post_id]['poi'] = poi_api\n",
    "        del pois[poi]\n",
    "\n",
    "with open(\"pois_new.json\", \"w\") as f:\n",
    "    f.write(json.dumps(pois))\n",
    "\n",
    "\n",
    "with open(\"posts_new.json\", \"w\") as g:\n",
    "    g.write(json.dumps(posts))\n",
    "\n",
    "\n",
    "with open(\"users_new.json\", \"w\") as h:\n",
    "    h.write(json.dumps(users))"
   ]
  },
  {
   "cell_type": "code",
   "execution_count": 10,
   "metadata": {
    "collapsed": true
   },
   "outputs": [],
   "source": [
    "with open(\"pois_new.json\", \"r\")as f:\n",
    "    pois_c = json.load(f)\n",
    "with open(\"posts_new.json\", \"r\")as f:\n",
    "    posts_c = json.load(f)\n",
    "with open(\"users_new.json\", \"r\")as f:\n",
    "    users_c = json.load(f)"
   ]
  },
  {
   "cell_type": "code",
   "execution_count": 20,
   "metadata": {
    "collapsed": false
   },
   "outputs": [],
   "source": [
    "print \"start\"\n",
    "for poi in pois_c.keys():\n",
    "    for post in pois_c[poi]['posts'].keys():\n",
    "        user = posts_c[post]['user']\n",
    "        if(posts_c[post]['poi'] != poi):\n",
    "            print \"wrong, post poi\"\n",
    "            print \"post :\", post\n",
    "            print \"poi : \", poi\n",
    "        if(users_c[user][post]['poi'] != poi):\n",
    "            print \"wrong, user poi\""
   ]
  },
  {
   "cell_type": "code",
   "execution_count": 14,
   "metadata": {
    "collapsed": false
   },
   "outputs": [
    {
     "data": {
      "text/plain": [
       "{u'gps': [40.6909904, -73.9558716],\n",
       " u'name': u'Endless Summer Sandwich',\n",
       " u'posts': {u'1220481793283905937_186715309': None,\n",
       "  u'1220482717163248043_186715309': None,\n",
       "  u'1245871053788609521_2236290189': None,\n",
       "  u'1255431030342953414_2366545': None,\n",
       "  u'1304433368993932039_1200395719': None,\n",
       "  u'1305477814267156946_1689353262': None},\n",
       " u'users': {u'1200395719': None,\n",
       "  u'1689353262': None,\n",
       "  u'1825053248': None,\n",
       "  u'186715309': None,\n",
       "  u'2236290189': None,\n",
       "  u'2366545': None}}"
      ]
     },
     "execution_count": 14,
     "metadata": {},
     "output_type": "execute_result"
    }
   ],
   "source": [
    "pois_c['Endless Summer']"
   ]
  },
  {
   "cell_type": "code",
   "execution_count": 15,
   "metadata": {
    "collapsed": false
   },
   "outputs": [
    {
     "data": {
      "text/plain": [
       "{u'1218919944787525050_1689353262': {u'created_time': [u'201642', 5, 1],\n",
       "  u'poi': u'Nourish Kitchen + Table'},\n",
       " u'1224723349619539175_1689353262': {u'created_time': [u'2016410', 6, 1],\n",
       "  u'poi': u'D\\xe9panneur'},\n",
       " u'1236498596131699906_1689353262': {u'created_time': [u'2016426', 1, 7],\n",
       "  u'poi': u'Foragers Table'},\n",
       " u'1280507279645319162_1689353262': {u'created_time': [u'2016626', 6, 0],\n",
       "  u'poi': u'Hester Street Fair'},\n",
       " u'1305477814267156946_1689353262': {u'created_time': [u'2016730', 5, 11],\n",
       "  u'poi': u'Endless Summer'},\n",
       " u'1306728823576750260_1689353262': {u'created_time': [u'201681', 0, 4],\n",
       "  u'poi': u'The Brooklyn Kitchen'},\n",
       " u'1346545853985193773_1689353262': {u'created_time': [u'2016925', 6, 3],\n",
       "  u'poi': u'Williamsburg'},\n",
       " u'1346546297658439836_1689353262': {u'created_time': [u'2016925', 6, 3],\n",
       "  u'poi': u'Williamsburg'},\n",
       " u'1347276677256811536_1689353262': {u'created_time': [u'2016926', 0, 3],\n",
       "  u'poi': u'Williamsburg'},\n",
       " u'1347297986342774018_1689353262': {u'created_time': [u'2016926', 0, 4],\n",
       "  u'poi': u'Bulletin Market'},\n",
       " u'1352430528028784183_1689353262': {u'created_time': [u'2016103', 0, 6],\n",
       "  u'poi': u'Sisters'},\n",
       " u'1361835513346853364_1689353262': {u'created_time': [u'20161016', 6, 5],\n",
       "  u'poi': u'Seven Point Espresso'},\n",
       " u'1377911463813626321_1689353262': {u'created_time': [u'2016117', 0, 9],\n",
       "  u'poi': u'Colonia Verde'}}"
      ]
     },
     "execution_count": 15,
     "metadata": {},
     "output_type": "execute_result"
    }
   ],
   "source": [
    "users_c['1689353262']"
   ]
  },
  {
   "cell_type": "code",
   "execution_count": 39,
   "metadata": {
    "collapsed": false
   },
   "outputs": [
    {
     "ename": "KeyError",
     "evalue": "u'1750977340'",
     "output_type": "error",
     "traceback": [
      "\u001b[0;31m---------------------------------------------------------------------------\u001b[0m",
      "\u001b[0;31mKeyError\u001b[0m                                  Traceback (most recent call last)",
      "\u001b[0;32m<ipython-input-39-48b5eacc7866>\u001b[0m in \u001b[0;36m<module>\u001b[0;34m()\u001b[0m\n\u001b[0;32m----> 1\u001b[0;31m \u001b[0musers\u001b[0m\u001b[0;34m[\u001b[0m\u001b[0;34m'1750977340'\u001b[0m\u001b[0;34m]\u001b[0m\u001b[0;34m\u001b[0m\u001b[0m\n\u001b[0m",
      "\u001b[0;31mKeyError\u001b[0m: u'1750977340'"
     ]
    }
   ],
   "source": [
    "users['1750977340']"
   ]
  },
  {
   "cell_type": "code",
   "execution_count": 11,
   "metadata": {
    "collapsed": false
   },
   "outputs": [
    {
     "data": {
      "text/plain": [
       "u'One World Trade Center'"
      ]
     },
     "execution_count": 11,
     "metadata": {},
     "output_type": "execute_result"
    }
   ],
   "source": [
    "resolution.get('Freedom Tower')"
   ]
  },
  {
   "cell_type": "code",
   "execution_count": 20,
   "metadata": {
    "collapsed": false
   },
   "outputs": [
    {
     "data": {
      "text/plain": [
       "{u'gps': [40.63376791339, -73.975812513937],\n",
       " u'name': u'East 3rd Street.',\n",
       " u'posts': {u'1004983035781792379_213396103': None,\n",
       "  u'1024388670719438863_1625542731': None,\n",
       "  u'1047967290862158686_213396103': None,\n",
       "  u'1274072424628260303_272321442': None,\n",
       "  u'1275085968075738457_198853922': None,\n",
       "  u'1275087655192579466_198853922': None,\n",
       "  u'1342303564739229146_2372585994': None,\n",
       "  u'974170940493533466_581802051': None},\n",
       " u'users': {u'1625542731': None,\n",
       "  u'198853922': None,\n",
       "  u'213396103': None,\n",
       "  u'2372585994': None,\n",
       "  u'272321442': None,\n",
       "  u'581802051': None}}"
      ]
     },
     "execution_count": 20,
     "metadata": {},
     "output_type": "execute_result"
    }
   ],
   "source": [
    "pois['East 3rd Street.']"
   ]
  },
  {
   "cell_type": "code",
   "execution_count": 33,
   "metadata": {
    "collapsed": false
   },
   "outputs": [
    {
     "data": {
      "text/plain": [
       "{u'content': u'Members of the New York City Police Department stand guard in Times Square in New York City. Following the terrorist attack in Nice, France, New York governor Andrew Cuomo has directed law enforcement to step up their security presence at high profiles locations around New York City.\\n\\u2796\\u2796\\u2796\\u2796\\n#nypd #nyc #police #newyork #ny #manhattan #cops #fdny #newyorkcity #usa #brooklyn #bronx #queens #longisland #thinblueline #america #cop #timesquare #justice #911 #detective #policestate #lawenforcement #policeofficer #policecar #copcar #guns #crime #nbc4ny #seeyourcity\\n\\u2796\\u2796\\u2796\\u2796',\n",
       " u'created_time': [u'2016103', 0, 6],\n",
       " u'poi': u'Times Square, New York City',\n",
       " u'user': u'3039086401'}"
      ]
     },
     "execution_count": 33,
     "metadata": {},
     "output_type": "execute_result"
    }
   ],
   "source": [
    "posts['1352440816806909108_3039086401']"
   ]
  },
  {
   "cell_type": "code",
   "execution_count": 29,
   "metadata": {
    "collapsed": false
   },
   "outputs": [
    {
     "data": {
      "text/plain": [
       "{u'pois': [u'Central Park',\n",
       "  u'Freedom Tower',\n",
       "  u'New York, New York',\n",
       "  u'Financial District',\n",
       "  u'The Brooklyn Bridge New York City',\n",
       "  u'New York, New York',\n",
       "  u'Barcelona, Spain',\n",
       "  u'Barcelona, Spain',\n",
       "  u'Barcelona, Spain',\n",
       "  u'Barcelona, Spain'],\n",
       " u'posts': [u'1306617106972115520_27281188',\n",
       "  u'1244876701508474876_27281188',\n",
       "  u'1292556883332514730_27281188',\n",
       "  u'1258190789940516504_27281188',\n",
       "  u'1333935685459334612_27281188',\n",
       "  u'1280716202104471936_27281188',\n",
       "  u'1275465717278480064_27281188',\n",
       "  u'1274763126311654872_27281188',\n",
       "  u'1274790319192446505_27281188',\n",
       "  u'1281305924619146119_27281188']}"
      ]
     },
     "execution_count": 29,
     "metadata": {},
     "output_type": "execute_result"
    }
   ],
   "source": [
    "users['27281188']"
   ]
  },
  {
   "cell_type": "code",
   "execution_count": 32,
   "metadata": {
    "collapsed": true
   },
   "outputs": [],
   "source": [
    "print users.get(1)"
   ]
  }
 ],
 "metadata": {
  "kernelspec": {
   "display_name": "Python 2",
   "language": "python",
   "name": "python2"
  },
  "language_info": {
   "codemirror_mode": {
    "name": "ipython",
    "version": 2
   },
   "file_extension": ".py",
   "mimetype": "text/x-python",
   "name": "python",
   "nbconvert_exporter": "python",
   "pygments_lexer": "ipython2",
   "version": "2.7.6"
  }
 },
 "nbformat": 4,
 "nbformat_minor": 1
}
