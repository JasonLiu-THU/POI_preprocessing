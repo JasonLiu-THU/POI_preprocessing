{
 "cells": [
  {
   "cell_type": "code",
   "execution_count": 1,
   "metadata": {
    "collapsed": true
   },
   "outputs": [],
   "source": [
    "from __future__ import unicode_literals\n",
    "import sys\n",
    "reload(sys)\n",
    "sys.setdefaultencoding('utf-8')\n",
    "\n",
    "#for team dataset\n",
    "import json\n",
    "import os\n",
    "import time"
   ]
  },
  {
   "cell_type": "code",
   "execution_count": 4,
   "metadata": {
    "collapsed": false
   },
   "outputs": [],
   "source": [
    "#main\n",
    "fcnt = 0\n",
    "pois = {}\n",
    "posts = {}\n",
    "users = {}\n",
    "\n",
    "for root, dirs, files in os.walk('/../hdd1/buru/our/json_data/'):\n",
    "    for file in files:\n",
    "        with open(\"/../hdd1/buru/our/json_data/\"+file, \"r\")as t:\n",
    "            try:\n",
    "                data = json.load(t)\n",
    "            except:\n",
    "                \n",
    "                print \"load_error\", file\n",
    "                continue\n",
    "                \n",
    "        dic = {}\n",
    "        for i in range(0, len(data['data'])):\n",
    "            dic = {}\n",
    "            #exception check\n",
    "            if(data['data'][i]['location'] is None):\n",
    "                continue\n",
    "            if(data['data'][i]['caption'] is None):\n",
    "                continue\n",
    "            if(not('latitude' in data['data'][i]['location'])):\n",
    "                continue\n",
    "            if(not('text' in data['data'][i]['caption'])):\n",
    "                continue\n",
    "            if(data['data'][i]['created_time'] is None):\n",
    "                continue\n",
    "            #pois \n",
    "            if data['data'][i]['location']['name'] == 'New York City Statue of Liberty':\n",
    "                print \"New York City Statue of Liberty\", data['data'][i]['id']\n",
    "            if data['data'][i]['location']['name'] == 'New-York City Statue of Liberty':\n",
    "                print \"New-York City Statue of Liberty\", data['data'][i]['id']\n",
    "            \n"
   ]
  }
 ],
 "metadata": {
  "kernelspec": {
   "display_name": "Python 2",
   "language": "python",
   "name": "python2"
  },
  "language_info": {
   "codemirror_mode": {
    "name": "ipython",
    "version": 2
   },
   "file_extension": ".py",
   "mimetype": "text/x-python",
   "name": "python",
   "nbconvert_exporter": "python",
   "pygments_lexer": "ipython2",
   "version": "2.7.6"
  }
 },
 "nbformat": 4,
 "nbformat_minor": 1
}
