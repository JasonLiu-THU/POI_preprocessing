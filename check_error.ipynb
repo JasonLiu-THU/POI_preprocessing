{
 "cells": [
  {
   "cell_type": "code",
   "execution_count": 1,
   "metadata": {
    "collapsed": true
   },
   "outputs": [],
   "source": [
    "from __future__ import unicode_literals\n",
    "import sys\n",
    "reload(sys)\n",
    "sys.setdefaultencoding('utf-8')\n",
    "\n",
    "#for team dataset\n",
    "import json\n",
    "import os\n",
    "import time"
   ]
  },
  {
   "cell_type": "code",
   "execution_count": 2,
   "metadata": {
    "collapsed": true
   },
   "outputs": [],
   "source": [
    "with open('posts.json', 'r') as t:\n",
    "    posts = json.load(t)\n",
    "with open('pois.json', 'r') as h:\n",
    "    pois = json.load(h)\n",
    "with open('users.json', 'r') as g:\n",
    "    users = json.load(g)"
   ]
  },
  {
   "cell_type": "code",
   "execution_count": null,
   "metadata": {
    "collapsed": false
   },
   "outputs": [],
   "source": [
    "#posts['1359698648921050513_4028318335']\n",
    "print \"start\"\n",
    "cnt = 0\n",
    "for use_id in users.keys():\n",
    "    pst_list = users[use_id].keys()\n",
    "    for pst in pst_list:\n",
    "        if(not(pst in posts.keys())):\n",
    "            cnt = cnt +1\n",
    "            print \"err\"\n",
    "print cnt"
   ]
  }
 ],
 "metadata": {
  "kernelspec": {
   "display_name": "Python 2",
   "language": "python",
   "name": "python2"
  },
  "language_info": {
   "codemirror_mode": {
    "name": "ipython",
    "version": 2
   },
   "file_extension": ".py",
   "mimetype": "text/x-python",
   "name": "python",
   "nbconvert_exporter": "python",
   "pygments_lexer": "ipython2",
   "version": "2.7.6"
  }
 },
 "nbformat": 4,
 "nbformat_minor": 1
}
