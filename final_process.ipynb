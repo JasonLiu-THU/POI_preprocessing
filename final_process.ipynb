{
 "cells": [
  {
   "cell_type": "code",
   "execution_count": 1,
   "metadata": {
    "collapsed": true
   },
   "outputs": [],
   "source": [
    "from __future__ import unicode_literals\n",
    "import sys\n",
    "reload(sys)\n",
    "sys.setdefaultencoding('utf-8')\n",
    "\n",
    "#for team dataset\n",
    "import json\n",
    "import os\n",
    "import time"
   ]
  },
  {
   "cell_type": "code",
   "execution_count": 2,
   "metadata": {
    "collapsed": true
   },
   "outputs": [],
   "source": [
    "with open(\"posts_new.json\", 'r') as t:\n",
    "    posts = json.load(t)\n",
    "with open(\"pois_new.json\", 'r') as h:\n",
    "    pois = json.load(h)\n",
    "with open(\"users_new.json\", 'r') as g:\n",
    "    users = json.load(g)"
   ]
  },
  {
   "cell_type": "code",
   "execution_count": 3,
   "metadata": {
    "collapsed": true
   },
   "outputs": [],
   "source": [
    "#make new jsons\n",
    "print \"start\"\n",
    "i = 0\n",
    "cnt = 1\n",
    "while(cnt!=0):\n",
    "    cnt = 0\n",
    "    i = 0\n",
    "    for user_id in users.keys():\n",
    "        i = i+1\n",
    "        #small user\n",
    "        if(len(users[user_id].keys()) < 10):\n",
    "            post_list = []\n",
    "            post_list = users[user_id].keys()\n",
    "            for index in post_list:\n",
    "                poi = users[user_id][index]['poi']\n",
    "                if pois[poi][\"users\"].get(user_id) != None:\n",
    "                    del pois[poi]['users'][user_id]\n",
    "                del pois[poi]['posts'][index]\n",
    "                del posts[index]\n",
    "            del users[user_id]\n",
    "            cnt = 1\n",
    "            \n",
    "        if(i%1000 == 0):\n",
    "            print i, \"user_id_iteration\"\n",
    "\n",
    "    \n",
    "    i = 0\n",
    "    for poi_name in pois.keys():\n",
    "        i = i+1\n",
    "        #small poi\n",
    "        if(len(pois[poi_name]['posts'].keys()) < 5):\n",
    "            post_list = []\n",
    "            post_list = pois[poi_name]['posts'].keys()\n",
    "            del pois[poi_name]\n",
    "            \n",
    "            for pst_id in post_list:\n",
    "                use_id = posts[pst_id]['user']\n",
    "                del posts[pst_id]\n",
    "                del users[use_id][pst_id]\n",
    "        \n",
    "            cnt = 1\n",
    "        \n",
    "        if(i%1000 == 0):\n",
    "            print i, \"poi_iteration\"\n",
    "\n",
    "\n",
    "                    \n",
    "with open(\"dataset/pois.json\", \"w\") as f:\n",
    "    f.write(json.dumps(pois))\n",
    "\n",
    "\n",
    "with open(\"dataset/posts.json\", \"w\") as g:\n",
    "    g.write(json.dumps(posts))\n",
    "\n",
    "\n",
    "with open(\"dataset/users.json\", \"w\") as h:\n",
    "    h.write(json.dumps(users))"
   ]
  },
  {
   "cell_type": "code",
   "execution_count": 5,
   "metadata": {
    "collapsed": false
   },
   "outputs": [],
   "source": [
    "for post in posts.keys():\n",
    "    poi = posts[post]['poi']\n",
    "    if(pois.get(poi) == None):\n",
    "        print \"error, poi\"\n",
    "        break\n",
    "    user = posts[post]['user']\n",
    "    poi2 = users[user][post]['poi']\n",
    "    if(pois.get(poi2) == None):\n",
    "        print \"error, user_poi\"\n",
    "        break\n",
    "\n",
    "for user_id in users.keys():\n",
    "    i = i+1\n",
    "        #small user\n",
    "    if(len(users[user_id].keys()) < 10):\n",
    "        print \"small user\"\n",
    "        break\n",
    "            \n",
    "    if(i%1000 == 0):\n",
    "        print i, \"user_id_iteration\"\n",
    "\n",
    "    \n",
    "i = 0\n",
    "for poi_name in pois.keys():\n",
    "    i = i+1\n",
    "        #small poi\n",
    "    if(len(pois[poi_name]['posts'].keys()) < 5):\n",
    "        print \"small poi\"\n",
    "    if(i%1000 == 0):\n",
    "        print i, \"poi_iteration\"\n"
   ]
  }
 ],
 "metadata": {
  "kernelspec": {
   "display_name": "Python 2",
   "language": "python",
   "name": "python2"
  },
  "language_info": {
   "codemirror_mode": {
    "name": "ipython",
    "version": 2
   },
   "file_extension": ".py",
   "mimetype": "text/x-python",
   "name": "python",
   "nbconvert_exporter": "python",
   "pygments_lexer": "ipython2",
   "version": "2.7.6"
  }
 },
 "nbformat": 4,
 "nbformat_minor": 1
}
