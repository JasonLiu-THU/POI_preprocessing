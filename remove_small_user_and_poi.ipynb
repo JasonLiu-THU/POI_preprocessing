{
 "cells": [
  {
   "cell_type": "code",
   "execution_count": 1,
   "metadata": {
    "collapsed": true
   },
   "outputs": [],
   "source": [
    "from __future__ import unicode_literals\n",
    "import sys\n",
    "reload(sys)\n",
    "sys.setdefaultencoding('utf-8')\n",
    "\n",
    "#for team dataset\n",
    "import json\n",
    "import os\n",
    "import time"
   ]
  },
  {
   "cell_type": "code",
   "execution_count": 2,
   "metadata": {
    "collapsed": false
   },
   "outputs": [
    {
     "data": {
      "text/plain": [
       "u'Greenville Road'"
      ]
     },
     "execution_count": 2,
     "metadata": {},
     "output_type": "execute_result"
    }
   ],
   "source": [
    "with open('pois.json', 'r') as t:\n",
    "    data = json.load(t)\n",
    "\n",
    "data.keys()[0]"
   ]
  },
  {
   "cell_type": "code",
   "execution_count": 38,
   "metadata": {
    "collapsed": false
   },
   "outputs": [],
   "source": [
    "with open(\"/../hdd1/buru/our/posts.json\", 'r') as t:\n",
    "    posts = json.load(t)\n",
    "with open(\"/../hdd1/buru/our/pois.json\", 'r') as h:\n",
    "    pois = json.load(h)\n",
    "with open(\"/../hdd1/buru/our/users_min.json\", 'r') as g:\n",
    "    users = json.load(g)"
   ]
  },
  {
   "cell_type": "code",
   "execution_count": 3,
   "metadata": {
    "collapsed": false
   },
   "outputs": [
    {
     "ename": "KeyboardInterrupt",
     "evalue": "",
     "output_type": "error",
     "traceback": [
      "\u001b[0;31m---------------------------------------------------------------------------\u001b[0m",
      "\u001b[0;31mKeyboardInterrupt\u001b[0m                         Traceback (most recent call last)",
      "\u001b[0;32m<ipython-input-3-4823fdd82d38>\u001b[0m in \u001b[0;36m<module>\u001b[0;34m()\u001b[0m\n\u001b[1;32m      6\u001b[0m     \u001b[0mi\u001b[0m \u001b[0;34m=\u001b[0m \u001b[0mi\u001b[0m\u001b[0;34m+\u001b[0m\u001b[0;36m1\u001b[0m\u001b[0;34m\u001b[0m\u001b[0m\n\u001b[1;32m      7\u001b[0m     \u001b[0mpst_list\u001b[0m \u001b[0;34m=\u001b[0m \u001b[0musers\u001b[0m\u001b[0;34m[\u001b[0m\u001b[0muse_id\u001b[0m\u001b[0;34m]\u001b[0m\u001b[0;34m.\u001b[0m\u001b[0mkeys\u001b[0m\u001b[0;34m(\u001b[0m\u001b[0;34m)\u001b[0m\u001b[0;34m\u001b[0m\u001b[0m\n\u001b[0;32m----> 8\u001b[0;31m     \u001b[0;32mfor\u001b[0m \u001b[0mpst\u001b[0m \u001b[0;32min\u001b[0m \u001b[0mpst_list\u001b[0m\u001b[0;34m:\u001b[0m\u001b[0;34m\u001b[0m\u001b[0m\n\u001b[0m\u001b[1;32m      9\u001b[0m         \u001b[0;32mif\u001b[0m\u001b[0;34m(\u001b[0m\u001b[0;32mnot\u001b[0m\u001b[0;34m(\u001b[0m\u001b[0mpst\u001b[0m \u001b[0;32min\u001b[0m \u001b[0mposts\u001b[0m\u001b[0;34m.\u001b[0m\u001b[0mkeys\u001b[0m\u001b[0;34m(\u001b[0m\u001b[0;34m)\u001b[0m\u001b[0;34m)\u001b[0m\u001b[0;34m)\u001b[0m\u001b[0;34m:\u001b[0m\u001b[0;34m\u001b[0m\u001b[0m\n\u001b[1;32m     10\u001b[0m             \u001b[0mcnt\u001b[0m \u001b[0;34m=\u001b[0m \u001b[0mcnt\u001b[0m \u001b[0;34m+\u001b[0m\u001b[0;36m1\u001b[0m\u001b[0;34m\u001b[0m\u001b[0m\n",
      "\u001b[0;31mKeyboardInterrupt\u001b[0m: "
     ]
    }
   ],
   "source": [
    "#posts['1359698648921050513_4028318335']\n",
    "print \"start\"\n",
    "cnt = 0\n",
    "i=0\n",
    "for use_id in users.keys():\n",
    "    i = i+1\n",
    "    pst_list = users[use_id].keys()\n",
    "    for pst in pst_list:\n",
    "        if(not(pst in posts.keys())):\n",
    "            cnt = cnt +1\n",
    "            print \"err\"\n",
    "    if(i%10 ==0):\n",
    "        print i, \"iteration\"\n",
    "print cnt"
   ]
  },
  {
   "cell_type": "code",
   "execution_count": 39,
   "metadata": {
    "collapsed": false
   },
   "outputs": [],
   "source": [
    "#make new jsons\n",
    "print \"start\"\n",
    "i = 0\n",
    "cnt = 1\n",
    "while(cnt!=0):\n",
    "    cnt = 0\n",
    "    i = 0\n",
    "    for user_id in users.keys():\n",
    "        i = i+1\n",
    "        #small user\n",
    "        if(len(users[user_id].keys()) < 10):\n",
    "            post_list = []\n",
    "            post_list = users[user_id].keys()\n",
    "            for index in post_list:\n",
    "                poi = users[user_id][index]['poi']\n",
    "                if pois[poi][\"users\"].get(user_id) != None:\n",
    "                    del pois[poi]['users'][user_id]\n",
    "                del pois[poi]['posts'][index]\n",
    "                del posts[index]\n",
    "            del users[user_id]\n",
    "            cnt = 1\n",
    "            \n",
    "        if(i%1000 == 0):\n",
    "            print i, \"user_id_iteration\"\n",
    "\n",
    "    \n",
    "    i = 0\n",
    "    for poi_name in pois.keys():\n",
    "        i = i+1\n",
    "        #small poi\n",
    "        if(len(pois[poi_name]['posts'].keys()) < 5):\n",
    "            post_list = []\n",
    "            post_list = pois[poi_name]['posts'].keys()\n",
    "            del pois[poi_name]\n",
    "            \n",
    "            for pst_id in post_list:\n",
    "                use_id = posts[pst_id]['user']\n",
    "                del posts[pst_id]\n",
    "                del users[use_id][pst_id]\n",
    "        \n",
    "            cnt = 1\n",
    "        \n",
    "        if(i%1000 == 0):\n",
    "            print i, \"poi_iteration\"\n",
    "\n",
    "\n",
    "                    \n",
    "with open(\"pois2.json\", \"w\") as f:\n",
    "    f.write(json.dumps(pois))\n",
    "\n",
    "\n",
    "with open(\"posts2.json\", \"w\") as g:\n",
    "    g.write(json.dumps(posts))\n",
    "\n",
    "\n",
    "with open(\"users2.json\", \"w\") as h:\n",
    "    h.write(json.dumps(users))"
   ]
  },
  {
   "cell_type": "code",
   "execution_count": null,
   "metadata": {
    "collapsed": true
   },
   "outputs": [],
   "source": []
  },
  {
   "cell_type": "code",
   "execution_count": 30,
   "metadata": {
    "collapsed": false
   },
   "outputs": [],
   "source": [
    "for poi in pois.keys():\n",
    "    if pois[poi]['posts'].get('1073895227846489865_2188889540') != None:\n",
    "        print poi\n",
    "        "
   ]
  },
  {
   "cell_type": "code",
   "execution_count": 32,
   "metadata": {
    "collapsed": false
   },
   "outputs": [
    {
     "data": {
      "text/plain": [
       "{u'gps': [40.708868685, -74.009642415],\n",
       " u'name': u'New York City Statue of Liberty',\n",
       " u'posts': {u'1073895227846489865_2188889540': 1,\n",
       "  u'1191646183165655453_206655637': 1,\n",
       "  u'1270627733962316922_623221366': 1},\n",
       " u'users': {u'206655637': 1, u'2188889540': 1, u'623221366': 1}}"
      ]
     },
     "execution_count": 32,
     "metadata": {},
     "output_type": "execute_result"
    }
   ],
   "source": [
    "pois['New York City Statue of Liberty']"
   ]
  },
  {
   "cell_type": "code",
   "execution_count": 33,
   "metadata": {
    "collapsed": false
   },
   "outputs": [
    {
     "data": {
      "text/plain": [
       "{u'gps': [40.708868685, -74.009642415],\n",
       " u'name': u'New-York City Statue of Liberty',\n",
       " u'posts': {u'1073895227846489865_2188889540': 1,\n",
       "  u'1159385304520652707_1101189284': 1,\n",
       "  u'1196164539281424700_478379719': 1,\n",
       "  u'1207846064750413112_2949204944': 1,\n",
       "  u'1214966358568866821_3059635772': 1,\n",
       "  u'1214981966555518291_3059635772': 1,\n",
       "  u'1247155278531603232_37057121': 1,\n",
       "  u'1247799020026896513_1422239647': 1,\n",
       "  u'1263795204157098325_742352065': 1,\n",
       "  u'1265169873325546568_321126558': 1,\n",
       "  u'1270627733962316922_623221366': 1,\n",
       "  u'1288057770579254741_2539221277': 1,\n",
       "  u'1289889871649254586_2350006235': 1,\n",
       "  u'1293340061416295509_1404607574': 1,\n",
       "  u'1294082282793840870_41935394': 1,\n",
       "  u'1294400076525662551_222665886': 1,\n",
       "  u'1296131192562768022_1732084491': 1,\n",
       "  u'1302756228446912900_516627027': 1,\n",
       "  u'1307458854468036090_1715892438': 1,\n",
       "  u'1325555346730805385_201486125': 1,\n",
       "  u'1329055393602861710_1237534973': 1,\n",
       "  u'1337730287588613418_2921966993': 1,\n",
       "  u'1341571294675789101_270486824': 1,\n",
       "  u'1354351018821751248_3796369296': 1,\n",
       "  u'1363088159642146160_1733955883': 1,\n",
       "  u'1363098824540885712_1733955883': 1},\n",
       " u'users': {u'1101189284': 1,\n",
       "  u'1237534973': 1,\n",
       "  u'1404607574': 1,\n",
       "  u'1422239647': 1,\n",
       "  u'1715892438': 1,\n",
       "  u'1732084491': 1,\n",
       "  u'1733955883': 1,\n",
       "  u'201486125': 1,\n",
       "  u'2188889540': 1,\n",
       "  u'222665886': 1,\n",
       "  u'2350006235': 1,\n",
       "  u'2539221277': 1,\n",
       "  u'270486824': 1,\n",
       "  u'2921966993': 1,\n",
       "  u'2949204944': 1,\n",
       "  u'3059635772': 1,\n",
       "  u'321126558': 1,\n",
       "  u'37057121': 1,\n",
       "  u'3796369296': 1,\n",
       "  u'41935394': 1,\n",
       "  u'478379719': 1,\n",
       "  u'516627027': 1,\n",
       "  u'623221366': 1,\n",
       "  u'742352065': 1}}"
      ]
     },
     "execution_count": 33,
     "metadata": {},
     "output_type": "execute_result"
    }
   ],
   "source": [
    "pois['New-York City Statue of Liberty']"
   ]
  },
  {
   "cell_type": "code",
   "execution_count": 25,
   "metadata": {
    "collapsed": false
   },
   "outputs": [
    {
     "data": {
      "text/plain": [
       "u'2188889540'"
      ]
     },
     "execution_count": 25,
     "metadata": {},
     "output_type": "execute_result"
    }
   ],
   "source": [
    "posts['1073895227846489865_2188889540']['user']"
   ]
  },
  {
   "cell_type": "code",
   "execution_count": 23,
   "metadata": {
    "collapsed": false
   },
   "outputs": [
    {
     "data": {
      "text/plain": [
       "True"
      ]
     },
     "execution_count": 23,
     "metadata": {},
     "output_type": "execute_result"
    }
   ],
   "source": [
    "'1073895227846489865_2188889540' in pois['New-York City Statue of Liberty']['posts']"
   ]
  },
  {
   "cell_type": "code",
   "execution_count": 29,
   "metadata": {
    "collapsed": false
   },
   "outputs": [
    {
     "data": {
      "text/plain": [
       "True"
      ]
     },
     "execution_count": 29,
     "metadata": {},
     "output_type": "execute_result"
    }
   ],
   "source": [
    "'1073895227846489865_2188889540' in users['2188889540'].keys()"
   ]
  },
  {
   "cell_type": "code",
   "execution_count": 28,
   "metadata": {
    "collapsed": false
   },
   "outputs": [
    {
     "data": {
      "text/plain": [
       "False"
      ]
     },
     "execution_count": 28,
     "metadata": {},
     "output_type": "execute_result"
    }
   ],
   "source": [
    "users['2188889540']['1073895227846489865_2188889540']"
   ]
  },
  {
   "cell_type": "code",
   "execution_count": 15,
   "metadata": {
    "collapsed": false,
    "scrolled": true
   },
   "outputs": [
    {
     "data": {
      "text/plain": [
       "{u'gps': [40.708868685, -74.009642415],\n",
       " u'name': u'New-York City Statue of Liberty',\n",
       " u'posts': {u'1073895227846489865_2188889540': 1,\n",
       "  u'1159385304520652707_1101189284': 1,\n",
       "  u'1196164539281424700_478379719': 1,\n",
       "  u'1207846064750413112_2949204944': 1,\n",
       "  u'1214966358568866821_3059635772': 1,\n",
       "  u'1214981966555518291_3059635772': 1,\n",
       "  u'1247155278531603232_37057121': 1,\n",
       "  u'1247799020026896513_1422239647': 1,\n",
       "  u'1263795204157098325_742352065': 1,\n",
       "  u'1265169873325546568_321126558': 1,\n",
       "  u'1270627733962316922_623221366': 1,\n",
       "  u'1288057770579254741_2539221277': 1,\n",
       "  u'1289889871649254586_2350006235': 1,\n",
       "  u'1293340061416295509_1404607574': 1,\n",
       "  u'1294082282793840870_41935394': 1,\n",
       "  u'1294400076525662551_222665886': 1,\n",
       "  u'1296131192562768022_1732084491': 1,\n",
       "  u'1302756228446912900_516627027': 1,\n",
       "  u'1307458854468036090_1715892438': 1,\n",
       "  u'1325555346730805385_201486125': 1,\n",
       "  u'1329055393602861710_1237534973': 1,\n",
       "  u'1337730287588613418_2921966993': 1,\n",
       "  u'1341571294675789101_270486824': 1,\n",
       "  u'1354351018821751248_3796369296': 1,\n",
       "  u'1363088159642146160_1733955883': 1,\n",
       "  u'1363098824540885712_1733955883': 1},\n",
       " u'users': {u'1101189284': 1,\n",
       "  u'1237534973': 1,\n",
       "  u'1404607574': 1,\n",
       "  u'1422239647': 1,\n",
       "  u'1715892438': 1,\n",
       "  u'1732084491': 1,\n",
       "  u'1733955883': 1,\n",
       "  u'201486125': 1,\n",
       "  u'2188889540': 1,\n",
       "  u'222665886': 1,\n",
       "  u'2350006235': 1,\n",
       "  u'2539221277': 1,\n",
       "  u'270486824': 1,\n",
       "  u'2921966993': 1,\n",
       "  u'2949204944': 1,\n",
       "  u'3059635772': 1,\n",
       "  u'321126558': 1,\n",
       "  u'37057121': 1,\n",
       "  u'3796369296': 1,\n",
       "  u'41935394': 1,\n",
       "  u'478379719': 1,\n",
       "  u'516627027': 1,\n",
       "  u'623221366': 1,\n",
       "  u'742352065': 1}}"
      ]
     },
     "execution_count": 15,
     "metadata": {},
     "output_type": "execute_result"
    }
   ],
   "source": [
    "pois['New-York City Statue of Liberty'][]"
   ]
  },
  {
   "cell_type": "code",
   "execution_count": 40,
   "metadata": {
    "collapsed": false
   },
   "outputs": [],
   "source": [
    "with open(\"posts2.json\", 'r') as t:\n",
    "    posts2 = json.load(t)\n",
    "with open(\"pois2.json\", 'r') as h:\n",
    "    pois2 = json.load(h)\n",
    "with open(\"users2.json\", 'r') as g:\n",
    "    users2 = json.load(g)\n",
    "#check\n",
    "print \"start\"\n",
    "i = 0\n",
    "cnt = 1\n",
    "while(cnt!=0):\n",
    "    cnt = 0\n",
    "    i = 0\n",
    "    for user_id in users2.keys():\n",
    "        i = i+1\n",
    "        if(len(users2[user_id].keys()) < 10):\n",
    "            print \"error_ small users\"\n",
    "            break\n",
    "        if(i%1000 == 0):\n",
    "            print i, \"user_id_iteration\"\n",
    "\n",
    "    \n",
    "    i = 0\n",
    "    for poi_name in pois2.keys():\n",
    "        i = i+1\n",
    "        if(len(pois2[poi_name]['posts'].keys()) < 5):\n",
    "            print \"error_small pois\"\n",
    "            break\n",
    "            cnt = 1\n",
    "        \n",
    "        if(i%1000 == 0):\n",
    "            print i, \"poi_iteration\"\n",
    "    break"
   ]
  },
  {
   "cell_type": "code",
   "execution_count": 41,
   "metadata": {
    "collapsed": true
   },
   "outputs": [],
   "source": [
    "print \"poi's count\", len(pois2.keys())\n",
    "print \"post's count\", len(posts2.keys())\n",
    "print \"user's count\", len(users2.keys())"
   ]
  }
 ],
 "metadata": {
  "kernelspec": {
   "display_name": "Python 2",
   "language": "python",
   "name": "python2"
  },
  "language_info": {
   "codemirror_mode": {
    "name": "ipython",
    "version": 2
   },
   "file_extension": ".py",
   "mimetype": "text/x-python",
   "name": "python",
   "nbconvert_exporter": "python",
   "pygments_lexer": "ipython2",
   "version": "2.7.6"
  }
 },
 "nbformat": 4,
 "nbformat_minor": 1
}
